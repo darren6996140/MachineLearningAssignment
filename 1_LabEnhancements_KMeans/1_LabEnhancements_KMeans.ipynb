{
 "cells": [
  {
   "cell_type": "markdown",
   "id": "00ea7f4d-0b86-4ec7-9e41-718d1708cbe9",
   "metadata": {},
   "source": [
    "# Data Sources\n",
    "\n",
    "https://www.kaggle.com/datasets/muhammadroshaanriaz/e-commerce-trends-a-guide-to-leveraging-dataset/data"
   ]
  },
  {
   "cell_type": "markdown",
   "id": "2feb6094-01e7-440f-84b4-a5333e97d4a5",
   "metadata": {},
   "source": [
    "# Import Libraries"
   ]
  },
  {
   "cell_type": "code",
   "execution_count": 2,
   "id": "97e25a0f-1f08-4825-bb67-6a8ce5bf5e48",
   "metadata": {},
   "outputs": [],
   "source": [
    "import pandas as pd\n",
    "import numpy as np\n",
    "from sklearn.preprocessing import StandardScaler\n",
    "from sklearn.cluster import KMeans, DBSCAN, AgglomerativeClustering\n",
    "from sklearn.decomposition import PCA\n",
    "from sklearn.metrics import silhouette_score\n",
    "import matplotlib.pyplot as plt"
   ]
  },
  {
   "cell_type": "markdown",
   "id": "a67ed514-ccff-4613-89a4-661e9bbed016",
   "metadata": {},
   "source": [
    "# Load and View data"
   ]
  },
  {
   "cell_type": "code",
   "execution_count": 3,
   "id": "8c77e93f-c969-4d21-8e44-6ca08b4b329b",
   "metadata": {},
   "outputs": [],
   "source": [
    "df = pd.read_csv('ecommerce_product_dataset.csv')\n",
    "df2 = pd.read_csv('ecommerce_product_dataset2.csv')"
   ]
  },
  {
   "cell_type": "code",
   "execution_count": 4,
   "id": "03cb37ca-186a-4267-ab4b-dd846e41a1f1",
   "metadata": {},
   "outputs": [
    {
     "data": {
      "text/html": [
       "<div>\n",
       "<style scoped>\n",
       "    .dataframe tbody tr th:only-of-type {\n",
       "        vertical-align: middle;\n",
       "    }\n",
       "\n",
       "    .dataframe tbody tr th {\n",
       "        vertical-align: top;\n",
       "    }\n",
       "\n",
       "    .dataframe thead th {\n",
       "        text-align: right;\n",
       "    }\n",
       "</style>\n",
       "<table border=\"1\" class=\"dataframe\">\n",
       "  <thead>\n",
       "    <tr style=\"text-align: right;\">\n",
       "      <th></th>\n",
       "      <th>ProductID</th>\n",
       "      <th>ProductName</th>\n",
       "      <th>Category</th>\n",
       "      <th>Price</th>\n",
       "      <th>Rating</th>\n",
       "      <th>NumReviews</th>\n",
       "      <th>StockQuantity</th>\n",
       "      <th>Discount</th>\n",
       "      <th>Sales</th>\n",
       "      <th>DateAdded</th>\n",
       "      <th>City</th>\n",
       "    </tr>\n",
       "  </thead>\n",
       "  <tbody>\n",
       "    <tr>\n",
       "      <th>0</th>\n",
       "      <td>1</td>\n",
       "      <td>Headphones</td>\n",
       "      <td>Electronics</td>\n",
       "      <td>400.31</td>\n",
       "      <td>1.7</td>\n",
       "      <td>3772</td>\n",
       "      <td>20</td>\n",
       "      <td>0.08</td>\n",
       "      <td>466</td>\n",
       "      <td>2023-11-10</td>\n",
       "      <td>Albuquerque</td>\n",
       "    </tr>\n",
       "    <tr>\n",
       "      <th>1</th>\n",
       "      <td>2</td>\n",
       "      <td>Headphones</td>\n",
       "      <td>Electronics</td>\n",
       "      <td>235.03</td>\n",
       "      <td>2.3</td>\n",
       "      <td>2919</td>\n",
       "      <td>663</td>\n",
       "      <td>0.33</td>\n",
       "      <td>1332</td>\n",
       "      <td>2023-09-28</td>\n",
       "      <td>Queens</td>\n",
       "    </tr>\n",
       "    <tr>\n",
       "      <th>2</th>\n",
       "      <td>3</td>\n",
       "      <td>Smartwatch</td>\n",
       "      <td>Electronics</td>\n",
       "      <td>417.90</td>\n",
       "      <td>1.8</td>\n",
       "      <td>1184</td>\n",
       "      <td>459</td>\n",
       "      <td>0.31</td>\n",
       "      <td>252</td>\n",
       "      <td>2023-10-20</td>\n",
       "      <td>Austin</td>\n",
       "    </tr>\n",
       "    <tr>\n",
       "      <th>3</th>\n",
       "      <td>4</td>\n",
       "      <td>Smartphone</td>\n",
       "      <td>Electronics</td>\n",
       "      <td>152.70</td>\n",
       "      <td>3.4</td>\n",
       "      <td>2047</td>\n",
       "      <td>475</td>\n",
       "      <td>0.49</td>\n",
       "      <td>1806</td>\n",
       "      <td>2023-12-05</td>\n",
       "      <td>Dallas</td>\n",
       "    </tr>\n",
       "    <tr>\n",
       "      <th>4</th>\n",
       "      <td>5</td>\n",
       "      <td>Laptop</td>\n",
       "      <td>Electronics</td>\n",
       "      <td>394.74</td>\n",
       "      <td>1.8</td>\n",
       "      <td>1267</td>\n",
       "      <td>831</td>\n",
       "      <td>0.23</td>\n",
       "      <td>1508</td>\n",
       "      <td>2023-08-10</td>\n",
       "      <td>Tucson</td>\n",
       "    </tr>\n",
       "  </tbody>\n",
       "</table>\n",
       "</div>"
      ],
      "text/plain": [
       "   ProductID ProductName     Category   Price  Rating  NumReviews  \\\n",
       "0          1  Headphones  Electronics  400.31     1.7        3772   \n",
       "1          2  Headphones  Electronics  235.03     2.3        2919   \n",
       "2          3  Smartwatch  Electronics  417.90     1.8        1184   \n",
       "3          4  Smartphone  Electronics  152.70     3.4        2047   \n",
       "4          5      Laptop  Electronics  394.74     1.8        1267   \n",
       "\n",
       "   StockQuantity  Discount  Sales   DateAdded         City  \n",
       "0             20      0.08    466  2023-11-10  Albuquerque  \n",
       "1            663      0.33   1332  2023-09-28       Queens  \n",
       "2            459      0.31    252  2023-10-20       Austin  \n",
       "3            475      0.49   1806  2023-12-05       Dallas  \n",
       "4            831      0.23   1508  2023-08-10       Tucson  "
      ]
     },
     "execution_count": 4,
     "metadata": {},
     "output_type": "execute_result"
    }
   ],
   "source": [
    "df.head()"
   ]
  },
  {
   "cell_type": "code",
   "execution_count": 5,
   "id": "9e37ad8a-78a5-44c8-aa80-ea027c3940ae",
   "metadata": {},
   "outputs": [
    {
     "data": {
      "text/html": [
       "<div>\n",
       "<style scoped>\n",
       "    .dataframe tbody tr th:only-of-type {\n",
       "        vertical-align: middle;\n",
       "    }\n",
       "\n",
       "    .dataframe tbody tr th {\n",
       "        vertical-align: top;\n",
       "    }\n",
       "\n",
       "    .dataframe thead th {\n",
       "        text-align: right;\n",
       "    }\n",
       "</style>\n",
       "<table border=\"1\" class=\"dataframe\">\n",
       "  <thead>\n",
       "    <tr style=\"text-align: right;\">\n",
       "      <th></th>\n",
       "      <th>ProductID</th>\n",
       "      <th>ProductName</th>\n",
       "      <th>Category</th>\n",
       "      <th>Price</th>\n",
       "      <th>Rating</th>\n",
       "      <th>NumReviews</th>\n",
       "      <th>StockQuantity</th>\n",
       "      <th>Discount</th>\n",
       "      <th>Sales</th>\n",
       "      <th>DateAdded</th>\n",
       "      <th>City</th>\n",
       "      <th>Stock In Vast or Limited Quantity</th>\n",
       "    </tr>\n",
       "  </thead>\n",
       "  <tbody>\n",
       "    <tr>\n",
       "      <th>0</th>\n",
       "      <td>1</td>\n",
       "      <td>Headphones</td>\n",
       "      <td>Electronics</td>\n",
       "      <td>400.31</td>\n",
       "      <td>1.7</td>\n",
       "      <td>3772</td>\n",
       "      <td>20</td>\n",
       "      <td>0.08</td>\n",
       "      <td>466</td>\n",
       "      <td>11/10/2023</td>\n",
       "      <td>Albuquerque</td>\n",
       "      <td>True</td>\n",
       "    </tr>\n",
       "    <tr>\n",
       "      <th>1</th>\n",
       "      <td>2</td>\n",
       "      <td>Headphones</td>\n",
       "      <td>Electronics</td>\n",
       "      <td>235.03</td>\n",
       "      <td>2.3</td>\n",
       "      <td>2919</td>\n",
       "      <td>663</td>\n",
       "      <td>0.33</td>\n",
       "      <td>1332</td>\n",
       "      <td>9/28/2023</td>\n",
       "      <td>Queens</td>\n",
       "      <td>True</td>\n",
       "    </tr>\n",
       "    <tr>\n",
       "      <th>2</th>\n",
       "      <td>3</td>\n",
       "      <td>Smartwatch</td>\n",
       "      <td>Electronics</td>\n",
       "      <td>417.90</td>\n",
       "      <td>1.8</td>\n",
       "      <td>1184</td>\n",
       "      <td>459</td>\n",
       "      <td>0.31</td>\n",
       "      <td>252</td>\n",
       "      <td>10/20/2023</td>\n",
       "      <td>Austin</td>\n",
       "      <td>True</td>\n",
       "    </tr>\n",
       "    <tr>\n",
       "      <th>3</th>\n",
       "      <td>4</td>\n",
       "      <td>Smartphone</td>\n",
       "      <td>Electronics</td>\n",
       "      <td>152.70</td>\n",
       "      <td>3.4</td>\n",
       "      <td>2047</td>\n",
       "      <td>475</td>\n",
       "      <td>0.49</td>\n",
       "      <td>1806</td>\n",
       "      <td>12/5/2023</td>\n",
       "      <td>Dallas</td>\n",
       "      <td>True</td>\n",
       "    </tr>\n",
       "    <tr>\n",
       "      <th>4</th>\n",
       "      <td>5</td>\n",
       "      <td>Laptop</td>\n",
       "      <td>Electronics</td>\n",
       "      <td>394.74</td>\n",
       "      <td>1.8</td>\n",
       "      <td>1267</td>\n",
       "      <td>831</td>\n",
       "      <td>0.23</td>\n",
       "      <td>1508</td>\n",
       "      <td>8/10/2023</td>\n",
       "      <td>Tucson</td>\n",
       "      <td>True</td>\n",
       "    </tr>\n",
       "  </tbody>\n",
       "</table>\n",
       "</div>"
      ],
      "text/plain": [
       "   ProductID ProductName     Category   Price  Rating  NumReviews  \\\n",
       "0          1  Headphones  Electronics  400.31     1.7        3772   \n",
       "1          2  Headphones  Electronics  235.03     2.3        2919   \n",
       "2          3  Smartwatch  Electronics  417.90     1.8        1184   \n",
       "3          4  Smartphone  Electronics  152.70     3.4        2047   \n",
       "4          5      Laptop  Electronics  394.74     1.8        1267   \n",
       "\n",
       "   StockQuantity  Discount  Sales   DateAdded         City  \\\n",
       "0             20      0.08    466  11/10/2023  Albuquerque   \n",
       "1            663      0.33   1332   9/28/2023       Queens   \n",
       "2            459      0.31    252  10/20/2023       Austin   \n",
       "3            475      0.49   1806   12/5/2023       Dallas   \n",
       "4            831      0.23   1508   8/10/2023       Tucson   \n",
       "\n",
       "   Stock In Vast or Limited Quantity  \n",
       "0                               True  \n",
       "1                               True  \n",
       "2                               True  \n",
       "3                               True  \n",
       "4                               True  "
      ]
     },
     "execution_count": 5,
     "metadata": {},
     "output_type": "execute_result"
    }
   ],
   "source": [
    "df2.head()"
   ]
  },
  {
   "cell_type": "markdown",
   "id": "0a8e9561-8d14-4c14-a9b2-05dd776d9c5b",
   "metadata": {},
   "source": [
    "# Preprocess Data"
   ]
  },
  {
   "cell_type": "code",
   "execution_count": 6,
   "id": "320083f7-cb21-4431-89c2-37cb597ed881",
   "metadata": {},
   "outputs": [],
   "source": [
    "# Create a new feature combining 'NumReviews' and 'Rating'\n",
    "df['ReviewScore'] = df['NumReviews'] * df['Rating']\n",
    "\n",
    "# Update columns for clustering to include the new feature and remove 'NumReviews' and 'Rating'\n",
    "columns_for_clustering = ['Price', 'ReviewScore', 'StockQuantity', 'Discount', 'Sales']\n",
    "\n",
    "# Define Preprocessing Function\n",
    "def preprocess_data(df):\n",
    "    # Select relevant columns\n",
    "    data = df[columns_for_clustering]\n",
    "\n",
    "    # Handle missing values\n",
    "    data = data.fillna(data.mean())\n",
    "\n",
    "    # Scale the features\n",
    "    scaler = StandardScaler()\n",
    "    scaled_data = scaler.fit_transform(data)\n",
    "\n",
    "    return scaled_data, df\n",
    "\n",
    "# Preprocess the data again\n",
    "scaled_data, original_data = preprocess_data(df)\n",
    "scaled_data\n",
    "\n",
    "# Apply log transformation to the 'Sales' column\n",
    "df['LogSales'] = np.log1p(df['Sales'])  # log(1 + Sales)\n",
    "\n",
    "# Update columns for clustering to use 'LogSales' instead of 'Sales'\n",
    "columns_for_clustering = ['Price', 'ReviewScore', 'StockQuantity', 'Discount', 'LogSales']\n",
    "\n",
    "# Preprocess the data again\n",
    "scaled_data, original_data = preprocess_data(df)\n"
   ]
  },
  {
   "cell_type": "markdown",
   "id": "ba18c746-ff55-4c45-9ec6-a0bece28d0e2",
   "metadata": {},
   "source": [
    "A new feature ReviewScore is created to combine NumReviews and Rating for better clustering.\n",
    "\n",
    "On the preprocessing section we had done the: \n",
    "- Handling missing values\n",
    "- Standardizing numerical features\n",
    "- Applying log transformation to Sales"
   ]
  },
  {
   "cell_type": "markdown",
   "id": "65561abd-86e8-401e-bc8f-ef31dda29018",
   "metadata": {},
   "source": [
    "# Elbow Method"
   ]
  },
  {
   "cell_type": "code",
   "execution_count": 7,
   "id": "a987756b-0a75-4c82-a52e-2100de8b2d20",
   "metadata": {},
   "outputs": [
    {
     "data": {
      "image/png": "[encoded data removed]",
      "text/plain": [
       "<Figure size 800x500 with 1 Axes>"
      ]
     },
     "metadata": {},
     "output_type": "display_data"
    }
   ],
   "source": [
    "# Elbow Method function\n",
    "def find_optimal_clusters(data, max_k=10):\n",
    "    wcss = []  # Within-cluster sum of squares\n",
    "    for i in range(1, max_k + 1):\n",
    "        kmeans = KMeans(n_clusters=i, init='k-means++', random_state=42)\n",
    "        kmeans.fit(data)\n",
    "        wcss.append(kmeans.inertia_)\n",
    "    \n",
    "    # Plot the Elbow graph\n",
    "    plt.figure(figsize=(8, 5))\n",
    "    plt.plot(range(1, max_k + 1), wcss, marker='o', linestyle='--')\n",
    "    plt.title('Elbow Method')\n",
    "    plt.xlabel('Number of Clusters')\n",
    "    plt.ylabel('WCSS')\n",
    "    plt.show()\n",
    "\n",
    "    return wcss\n",
    "\n",
    "# Run the Elbow Method\n",
    "wcss = find_optimal_clusters(scaled_data, max_k=10)"
   ]
  },
  {
   "cell_type": "markdown",
   "id": "f5c3355f-7ba4-4921-bb25-58ff44a293a2",
   "metadata": {},
   "source": [
    "Next, to do the K-mean clustering we need to find the opitmal cluster.\n",
    "The Elbow Method helps determine the best k value for clustering.\n",
    "Based on the elbow method graph above, the optimal cluster can be determine "
   ]
  },
  {
   "cell_type": "markdown",
   "id": "21cd1b63-de81-4b8d-a90a-70ce125bd1cf",
   "metadata": {},
   "source": [
    "# Determine Optimal Clusters\n",
    "\n",
    "From the graph above we can saw that the optimal cluster is 3"
   ]
  },
  {
   "cell_type": "code",
   "execution_count": 8,
   "id": "a51bca57-e253-47df-91b1-79170b630a4c",
   "metadata": {},
   "outputs": [],
   "source": [
    "# Perform K-Means with the chosen number of clusters\n",
    "optimal_k = 3"
   ]
  },
  {
   "cell_type": "markdown",
   "id": "77fb6a38-9441-485d-9b60-e6fd29c57f2a",
   "metadata": {},
   "source": [
    "# Modeling"
   ]
  },
  {
   "cell_type": "markdown",
   "id": "2ee326e2-5308-44fa-a783-00d511ff3070",
   "metadata": {},
   "source": [
    "## K-Means Clustering"
   ]
  },
  {
   "cell_type": "code",
   "execution_count": 9,
   "id": "cc0b2e21-179d-48b9-83d2-1c1de43fa539",
   "metadata": {},
   "outputs": [],
   "source": [
    "# Perform K-Means Clustering\n",
    "kmeans = KMeans(n_clusters=optimal_k, init='k-means++', random_state=42)\n",
    "kmeans.fit(scaled_data)\n",
    "\n",
    "# Add cluster labels to the original data\n",
    "original_data['KMeans_Cluster'] = kmeans.labels_"
   ]
  },
  {
   "cell_type": "code",
   "execution_count": 10,
   "id": "e9fc5ed9-8afc-418e-84e5-878c153dfdf1",
   "metadata": {},
   "outputs": [
    {
     "name": "stdout",
     "output_type": "stream",
     "text": [
      "K-Means Silhouette Score: 0.16\n"
     ]
    }
   ],
   "source": [
    "# Evaluate K-Means clustering using silhouette score\n",
    "kmeans_silhouette = silhouette_score(scaled_data, kmeans.labels_)\n",
    "print(f\"K-Means Silhouette Score: {kmeans_silhouette:.2f}\")"
   ]
  },
  {
   "cell_type": "markdown",
   "id": "aacd2261-1968-4701-95c0-be1c8e6b51ab",
   "metadata": {},
   "source": [
    "K-Means groups products into clusters based on similarity. The Elbow Method helps determine the best number of clusters (k). The algorithm assigns each product to a cluster, updates cluster centers, and repeats until stable. We store these cluster labels in the dataset (KMeans_Cluster) and measure the Silhouette Score to check how well the clustering works."
   ]
  },
  {
   "cell_type": "markdown",
   "id": "f6cf6ccc-da94-47f6-a89f-98a1f479dd9f",
   "metadata": {},
   "source": [
    "## Agglomerative Clustering"
   ]
  },
  {
   "cell_type": "code",
   "execution_count": 11,
   "id": "c5b3ec84-f2de-4814-b168-b61ed9216a76",
   "metadata": {},
   "outputs": [],
   "source": [
    "# Perform Agglomerative Clustering\n",
    "agglo = AgglomerativeClustering(n_clusters=optimal_k, linkage='ward')\n",
    "agglo_labels = agglo.fit_predict(scaled_data)\n",
    "\n",
    "# Add Agglomerative cluster labels to the original dataframe\n",
    "original_data['Agglo_Cluster'] = agglo_labels"
   ]
  },
  {
   "cell_type": "code",
   "execution_count": 12,
   "id": "73bfe068-8837-4b66-a9e2-c546c20a1d45",
   "metadata": {},
   "outputs": [
    {
     "name": "stdout",
     "output_type": "stream",
     "text": [
      "Agglomerative Clustering Silhouette Score: 0.10\n"
     ]
    }
   ],
   "source": [
    "# Evaluate Agglomerative clustering using silhouette score\n",
    "agglo_silhouette = silhouette_score(scaled_data, agglo_labels)\n",
    "print(f\"Agglomerative Clustering Silhouette Score: {agglo_silhouette:.2f}\")"
   ]
  },
  {
   "cell_type": "markdown",
   "id": "649d6c33-2363-4d04-828a-06286f8032f6",
   "metadata": {},
   "source": [
    "Agglomerative Clustering is a hierarchical method that starts with each product as its own cluster and merges them step by step. We set the same number of clusters as K-Means, apply Ward’s linkage (which minimizes cluster variance), and save the results in Agglo_Cluster. The Silhouette Score helps evaluate cluster quality."
   ]
  },
  {
   "cell_type": "markdown",
   "id": "7d179aef-8fc5-435f-8393-0211fd9a1dd8",
   "metadata": {},
   "source": [
    "## PCA Reduction Function"
   ]
  },
  {
   "cell_type": "code",
   "execution_count": 13,
   "id": "8ed238ce-45fa-4448-ae87-de4d047b4fc8",
   "metadata": {},
   "outputs": [
    {
     "name": "stdout",
     "output_type": "stream",
     "text": [
      "Explained variance ratio by PCA components: [0.21362764 0.20454258]\n"
     ]
    }
   ],
   "source": [
    "# Apply PCA to reduce dimensions to 2\n",
    "pca = PCA(n_components=2)\n",
    "pca_data = pca.fit_transform(scaled_data)\n",
    "\n",
    "# Print explained variance ratio\n",
    "print(f\"Explained variance ratio by PCA components: {pca.explained_variance_ratio_}\")"
   ]
  },
  {
   "cell_type": "markdown",
   "id": "3b706d02-a9aa-43a1-97dc-2f15132656f7",
   "metadata": {},
   "source": [
    "Since clustering is harder with many features, PCA (Principal Component Analysis) reduces data to two dimensions while keeping important patterns. This helps make clustering faster and easier to visualize. We check the explained variance to confirm PCA retains enough information."
   ]
  },
  {
   "cell_type": "markdown",
   "id": "b0db7015-c4ce-46c3-a0df-7e5dac170f30",
   "metadata": {},
   "source": [
    "## K-Means Clustering on PCA-Reduced Data"
   ]
  },
  {
   "cell_type": "code",
   "execution_count": 14,
   "id": "7d18396a-3a2d-4d0d-b724-1e409f001e7f",
   "metadata": {},
   "outputs": [
    {
     "name": "stdout",
     "output_type": "stream",
     "text": [
      "K-Means Silhouette Score on PCA Data: 0.34\n"
     ]
    }
   ],
   "source": [
    "# Perform K-Means Clustering on PCA-reduced data\n",
    "kmeans_pca = KMeans(n_clusters=optimal_k, init='k-means++', random_state=42)\n",
    "kmeans_pca.fit(pca_data)\n",
    "\n",
    "# Add cluster labels to the original data\n",
    "original_data['PCA_KMeans_Cluster'] = kmeans_pca.labels_\n",
    "\n",
    "# Evaluate K-Means on PCA data\n",
    "kmeans_pca_silhouette = silhouette_score(pca_data, kmeans_pca.labels_)\n",
    "print(f\"K-Means Silhouette Score on PCA Data: {kmeans_pca_silhouette:.2f}\")"
   ]
  },
  {
   "cell_type": "markdown",
   "id": "77d05852-f881-471a-9ffb-67d84a42c173",
   "metadata": {},
   "source": [
    "After reducing the dataset, we rerun K-Means and Agglomerative Clustering on the PCA-transformed data. The clusters are now in a 2D space, making them easier to understand. The new cluster labels are stored as PCA_KMeans_Cluster and PCA_Agglo_Cluster, and we again calculate the Silhouette Score to measure accuracy."
   ]
  },
  {
   "cell_type": "markdown",
   "id": "224489f2-d26a-4b36-a11b-19fc142c9723",
   "metadata": {},
   "source": [
    "## Agglomerative Clustering on PCA-Reduced Data"
   ]
  },
  {
   "cell_type": "code",
   "execution_count": 15,
   "id": "7c77352e-cfa4-4876-b855-dc18b28031e9",
   "metadata": {},
   "outputs": [
    {
     "name": "stdout",
     "output_type": "stream",
     "text": [
      "Agglomerative Clustering Silhouette Score on PCA Data: 0.30\n"
     ]
    }
   ],
   "source": [
    "# Perform Agglomerative Clustering on PCA-reduced data\n",
    "agglo_pca = AgglomerativeClustering(n_clusters=optimal_k, linkage='ward')\n",
    "agglo_pca_labels = agglo_pca.fit_predict(pca_data)\n",
    "\n",
    "# Add Agglomerative cluster labels to the original dataframe\n",
    "original_data['PCA_Agglo_Cluster'] = agglo_pca_labels\n",
    "\n",
    "# Evaluate Agglomerative Clustering on PCA data\n",
    "agglo_pca_silhouette = silhouette_score(pca_data, agglo_pca_labels)\n",
    "print(f\"Agglomerative Clustering Silhouette Score on PCA Data: {agglo_pca_silhouette:.2f}\")"
   ]
  },
  {
   "cell_type": "markdown",
   "id": "9a8f2d97-4f45-4387-91d4-7d734dbbe913",
   "metadata": {},
   "source": [
    "### Clustering Results Comparison\n",
    "\n",
    "| Clustering Method                  | Silhouette Score |\n",
    "|------------------------------------|------------------|\n",
    "| K-Means (Original Data)            | 0.16          |\n",
    "| Agglomerative Clustering (Original Data) | 0.10       |\n",
    "| K-Means (PCA-Reduced Data)         | 0.34             |\n",
    "| Agglomerative Clustering (PCA-Reduced Data) | 0.30    |\n"
   ]
  },
  {
   "cell_type": "markdown",
   "id": "27ebd052-73b7-43ee-b2eb-b3e17f1a5bc8",
   "metadata": {},
   "source": [
    "# Visualization "
   ]
  },
  {
   "cell_type": "code",
   "execution_count": 16,
   "id": "7719902d-39c6-4a25-a804-3291a8ecf547",
   "metadata": {},
   "outputs": [],
   "source": [
    "# Visualization of Clusters\n",
    "def visualize_pca_clusters(pca_data, labels, title):\n",
    "    plt.figure(figsize=(10, 6))\n",
    "    for cluster in np.unique(labels):\n",
    "        plt.scatter(\n",
    "            pca_data[labels == cluster, 0],\n",
    "            pca_data[labels == cluster, 1],\n",
    "            label=f'Cluster {cluster}'\n",
    "        )\n",
    "    plt.title(title)\n",
    "    plt.xlabel('PCA Component 1')\n",
    "    plt.ylabel('PCA Component 2')\n",
    "    plt.legend()\n",
    "    plt.show()"
   ]
  },
  {
   "cell_type": "code",
   "execution_count": 17,
   "id": "0301a668-1360-423c-af54-2c5080523109",
   "metadata": {},
   "outputs": [
    {
     "data": {
      "image/png": "[encoded data removed]",
      "text/plain": [
       "<Figure size 1000x600 with 1 Axes>"
      ]
     },
     "metadata": {},
     "output_type": "display_data"
    }
   ],
   "source": [
    "# Visualize K-Means Clusters\n",
    "visualize_pca_clusters(pca_data, kmeans_pca.labels_, \"K-Means Clusters (PCA Reduced)\")"
   ]
  },
  {
   "cell_type": "markdown",
   "id": "1d3a0ea4-39fb-4885-bb6e-7c1d71efb302",
   "metadata": {},
   "source": [
    "# Analyze Clusters"
   ]
  },
  {
   "cell_type": "code",
   "execution_count": 18,
   "id": "aa1af0bc-d960-43cd-b5b0-d6bb1cb1cefa",
   "metadata": {},
   "outputs": [
    {
     "name": "stdout",
     "output_type": "stream",
     "text": [
      "K-Means Cluster Summary:\n"
     ]
    },
    {
     "data": {
      "text/html": [
       "<div>\n",
       "<style scoped>\n",
       "    .dataframe tbody tr th:only-of-type {\n",
       "        vertical-align: middle;\n",
       "    }\n",
       "\n",
       "    .dataframe tbody tr th {\n",
       "        vertical-align: top;\n",
       "    }\n",
       "\n",
       "    .dataframe thead th {\n",
       "        text-align: right;\n",
       "    }\n",
       "</style>\n",
       "<table border=\"1\" class=\"dataframe\">\n",
       "  <thead>\n",
       "    <tr style=\"text-align: right;\">\n",
       "      <th></th>\n",
       "      <th>ProductID</th>\n",
       "      <th>Price</th>\n",
       "      <th>Rating</th>\n",
       "      <th>NumReviews</th>\n",
       "      <th>StockQuantity</th>\n",
       "      <th>Discount</th>\n",
       "      <th>Sales</th>\n",
       "      <th>ReviewScore</th>\n",
       "      <th>LogSales</th>\n",
       "      <th>KMeans_Cluster</th>\n",
       "      <th>Agglo_Cluster</th>\n",
       "      <th>PCA_KMeans_Cluster</th>\n",
       "      <th>PCA_Agglo_Cluster</th>\n",
       "    </tr>\n",
       "    <tr>\n",
       "      <th>KMeans_Cluster</th>\n",
       "      <th></th>\n",
       "      <th></th>\n",
       "      <th></th>\n",
       "      <th></th>\n",
       "      <th></th>\n",
       "      <th></th>\n",
       "      <th></th>\n",
       "      <th></th>\n",
       "      <th></th>\n",
       "      <th></th>\n",
       "      <th></th>\n",
       "      <th></th>\n",
       "      <th></th>\n",
       "    </tr>\n",
       "  </thead>\n",
       "  <tbody>\n",
       "    <tr>\n",
       "      <th>0</th>\n",
       "      <td>489.047493</td>\n",
       "      <td>288.755172</td>\n",
       "      <td>2.693140</td>\n",
       "      <td>2038.562005</td>\n",
       "      <td>519.807388</td>\n",
       "      <td>0.123668</td>\n",
       "      <td>985.902375</td>\n",
       "      <td>5010.507388</td>\n",
       "      <td>6.610529</td>\n",
       "      <td>0.0</td>\n",
       "      <td>0.952507</td>\n",
       "      <td>1.525066</td>\n",
       "      <td>1.234828</td>\n",
       "    </tr>\n",
       "    <tr>\n",
       "      <th>1</th>\n",
       "      <td>510.339844</td>\n",
       "      <td>246.449688</td>\n",
       "      <td>3.905859</td>\n",
       "      <td>3949.968750</td>\n",
       "      <td>440.886719</td>\n",
       "      <td>0.251797</td>\n",
       "      <td>1040.753906</td>\n",
       "      <td>15193.045313</td>\n",
       "      <td>6.634030</td>\n",
       "      <td>1.0</td>\n",
       "      <td>0.914062</td>\n",
       "      <td>1.003906</td>\n",
       "      <td>0.148438</td>\n",
       "    </tr>\n",
       "    <tr>\n",
       "      <th>2</th>\n",
       "      <td>505.490411</td>\n",
       "      <td>222.592274</td>\n",
       "      <td>2.753425</td>\n",
       "      <td>1958.756164</td>\n",
       "      <td>508.276712</td>\n",
       "      <td>0.384411</td>\n",
       "      <td>1016.293151</td>\n",
       "      <td>4808.991507</td>\n",
       "      <td>6.591838</td>\n",
       "      <td>2.0</td>\n",
       "      <td>0.852055</td>\n",
       "      <td>0.630137</td>\n",
       "      <td>0.638356</td>\n",
       "    </tr>\n",
       "  </tbody>\n",
       "</table>\n",
       "</div>"
      ],
      "text/plain": [
       "                 ProductID       Price    Rating   NumReviews  StockQuantity  \\\n",
       "KMeans_Cluster                                                                 \n",
       "0               489.047493  288.755172  2.693140  2038.562005     519.807388   \n",
       "1               510.339844  246.449688  3.905859  3949.968750     440.886719   \n",
       "2               505.490411  222.592274  2.753425  1958.756164     508.276712   \n",
       "\n",
       "                Discount        Sales   ReviewScore  LogSales  KMeans_Cluster  \\\n",
       "KMeans_Cluster                                                                  \n",
       "0               0.123668   985.902375   5010.507388  6.610529             0.0   \n",
       "1               0.251797  1040.753906  15193.045313  6.634030             1.0   \n",
       "2               0.384411  1016.293151   4808.991507  6.591838             2.0   \n",
       "\n",
       "                Agglo_Cluster  PCA_KMeans_Cluster  PCA_Agglo_Cluster  \n",
       "KMeans_Cluster                                                        \n",
       "0                    0.952507            1.525066           1.234828  \n",
       "1                    0.914062            1.003906           0.148438  \n",
       "2                    0.852055            0.630137           0.638356  "
      ]
     },
     "metadata": {},
     "output_type": "display_data"
    }
   ],
   "source": [
    "# Analyze clusters and compute summary statistics\n",
    "def analyze_clusters(df, cluster_column):\n",
    "    numeric_columns = df.select_dtypes(include=np.number).columns\n",
    "    cluster_summary = df.groupby(cluster_column)[numeric_columns].mean()\n",
    "    return cluster_summary\n",
    "\n",
    "# Cluster-wise summary for K-Means\n",
    "kmeans_summary = analyze_clusters(original_data, 'KMeans_Cluster')\n",
    "print(\"K-Means Cluster Summary:\")\n",
    "display(kmeans_summary)"
   ]
  },
  {
   "cell_type": "markdown",
   "id": "3cda62d0-277e-4bc4-bc80-f1eaac8f7119",
   "metadata": {},
   "source": [
    "# K-Means clustering on PCA-reduced data"
   ]
  },
  {
   "cell_type": "code",
   "execution_count": 31,
   "id": "3a7ed1f9-fb73-415e-a033-19c2d3cbb130",
   "metadata": {},
   "outputs": [
    {
     "data": {
      "image/png": "[encoded data removed]",
      "text/plain": [
       "<Figure size 640x480 with 1 Axes>"
      ]
     },
     "metadata": {},
     "output_type": "display_data"
    },
    {
     "data": {
      "image/png": "[encoded data removed]",
      "text/plain": [
       "<Figure size 640x480 with 1 Axes>"
      ]
     },
     "metadata": {},
     "output_type": "display_data"
    }
   ],
   "source": [
    "import seaborn as sns\n",
    "\n",
    "# Example: Distribution of prices across clusters\n",
    "sns.boxplot(x='PCA_KMeans_Cluster', y='Price', data=original_data)\n",
    "plt.title('Price Distribution Across Clusters')\n",
    "plt.show()\n",
    "\n",
    "# Example: Sales across clusters\n",
    "sns.boxplot(x='PCA_KMeans_Cluster', y='Sales', data=original_data)\n",
    "plt.title('Sales Distribution Across Clusters')\n",
    "plt.show()"
   ]
  },
  {
   "cell_type": "markdown",
   "id": "98738138-fcf2-4bdc-86cd-6bd37ae41f98",
   "metadata": {},
   "source": [
    "### **Price Distribution Across Clusters**\n",
    "- **Cluster 0**: Represents budget-friendly products with low to moderate prices. This category likely appeals to price-sensitive customers or essential items.\n",
    "- **Cluster 1**: Comprises mid-range products with a wide price distribution, indicating a mix of standard and premium offerings.\n",
    "- **Cluster 2**: Contains high-priced products, suggesting luxury or exclusive items aimed at high-spending customers.\n",
    "\n",
    "### **Sales Distribution Across Clusters**\n",
    "- **Cluster 0**: Shows moderate sales but with a wide spread, meaning these products have diverse demand levels.\n",
    "- **Cluster 1**: Has the highest sales, indicating strong market demand for products in this category.\n",
    "- **Cluster 2**: Similar to Cluster 1 but with slightly lower sales, suggesting premium products with steady demand.\n",
    "\n"
   ]
  },
  {
   "cell_type": "markdown",
   "id": "281a11b9-ade1-418e-9319-1e85d52b8a20",
   "metadata": {},
   "source": [
    "### **Business Insights**\n",
    "This clustering highlights distinct product segments:\n",
    "- **Clusters 1 and 2** have strong sales, so the business could focus on maintaining or expanding premium offerings.\n",
    "- **Cluster 0** includes budget-friendly products with varying sales, so introducing promotions or bundling strategies might improve performance.\n",
    "- The **wide sales range in Cluster 0** suggests that some budget products are highly popular, while others may require better positioning."
   ]
  },
  {
   "cell_type": "code",
   "execution_count": null,
   "id": "f6e08234-d835-464e-801b-4fe6108d87bb",
   "metadata": {},
   "outputs": [],
   "source": []
  }
 ],
 "metadata": {
  "kernelspec": {
   "display_name": "Python 3 (ipykernel)",
   "language": "python",
   "name": "python3"
  },
  "language_info": {
   "codemirror_mode": {
    "name": "ipython",
    "version": 3
   },
   "file_extension": ".py",
   "mimetype": "text/x-python",
   "name": "python",
   "nbconvert_exporter": "python",
   "pygments_lexer": "ipython3",
   "version": "3.10.6"
  }
 },
 "nbformat": 4,
 "nbformat_minor": 5
}
